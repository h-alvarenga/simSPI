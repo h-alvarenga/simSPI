{
 "cells": [
  {
   "cell_type": "code",
   "execution_count": 7,
   "id": "bcdf0439",
   "metadata": {},
   "outputs": [],
   "source": [
    "from scipy.spatial import ConvexHull\n",
    "import numpy as np\n"
   ]
  },
  {
   "cell_type": "code",
   "execution_count": 8,
   "id": "840324d5",
   "metadata": {},
   "outputs": [],
   "source": [
    "hull_set = [[0,0],[0,1],[1,0],[1,1]]"
   ]
  },
  {
   "cell_type": "code",
   "execution_count": 9,
   "id": "40152a31",
   "metadata": {},
   "outputs": [],
   "source": [
    "hull = ConvexHull(hull_set)"
   ]
  },
  {
   "cell_type": "code",
   "execution_count": 11,
   "id": "14759503",
   "metadata": {},
   "outputs": [],
   "source": [
    "point = [0.5,0.5]"
   ]
  },
  {
   "cell_type": "code",
   "execution_count": 18,
   "id": "d6ef727c",
   "metadata": {},
   "outputs": [
    {
     "data": {
      "text/plain": [
       "array([[0. , 0. ],\n",
       "       [0. , 1. ],\n",
       "       [1. , 0. ],\n",
       "       [1. , 1. ],\n",
       "       [0.5, 0.5]])"
      ]
     },
     "execution_count": 18,
     "metadata": {},
     "output_type": "execute_result"
    }
   ],
   "source": [
    "arr = np.concatenate((hull_set, [point]),axis=0)\n",
    "arr"
   ]
  },
  {
   "cell_type": "code",
   "execution_count": 23,
   "id": "730edccd",
   "metadata": {},
   "outputs": [
    {
     "data": {
      "text/plain": [
       "[[0, 0], [0, 1], [1, 0], [1, 1]]"
      ]
     },
     "execution_count": 23,
     "metadata": {},
     "output_type": "execute_result"
    }
   ],
   "source": [
    "hull_set"
   ]
  },
  {
   "cell_type": "code",
   "execution_count": 25,
   "id": "07190bdc",
   "metadata": {},
   "outputs": [],
   "source": [
    "arr = np.empty((len(hull_set)+1,len(hull_set[0])))\n",
    "arr[:-1] = hull_set"
   ]
  },
  {
   "cell_type": "code",
   "execution_count": 14,
   "id": "60b1473e",
   "metadata": {},
   "outputs": [],
   "source": [
    "new_hull = ConvexHull(arr)"
   ]
  },
  {
   "cell_type": "code",
   "execution_count": 15,
   "id": "20588b6d",
   "metadata": {},
   "outputs": [
    {
     "data": {
      "text/plain": [
       "<scipy.spatial._qhull.ConvexHull at 0x120f6f3d0>"
      ]
     },
     "execution_count": 15,
     "metadata": {},
     "output_type": "execute_result"
    }
   ],
   "source": [
    "new_hull"
   ]
  },
  {
   "cell_type": "code",
   "execution_count": 17,
   "id": "b151084b",
   "metadata": {},
   "outputs": [
    {
     "data": {
      "text/plain": [
       "array([0, 2, 3, 1], dtype=int32)"
      ]
     },
     "execution_count": 17,
     "metadata": {},
     "output_type": "execute_result"
    }
   ],
   "source": [
    "hull.vertices"
   ]
  },
  {
   "cell_type": "code",
   "execution_count": null,
   "id": "5b1fb0df",
   "metadata": {},
   "outputs": [],
   "source": [
    "# https://stackoverflow.com/questions/1593019/is-there-any-simple-way-to-benchmark-python-script"
   ]
  },
  {
   "cell_type": "code",
   "execution_count": 26,
   "id": "76d6e0ed",
   "metadata": {},
   "outputs": [
    {
     "ename": "NameError",
     "evalue": "name 'C' is not defined",
     "output_type": "error",
     "traceback": [
      "\u001b[0;31m---------------------------------------------------------------------------\u001b[0m",
      "\u001b[0;31mNameError\u001b[0m                                 Traceback (most recent call last)",
      "Cell \u001b[0;32mIn[26], line 1\u001b[0m\n\u001b[0;32m----> 1\u001b[0m \u001b[43mC\u001b[49m\u001b[38;5;241m.\u001b[39mcoordinates_set\n",
      "\u001b[0;31mNameError\u001b[0m: name 'C' is not defined"
     ]
    }
   ],
   "source": [
    "C.coordinates_set"
   ]
  },
  {
   "cell_type": "code",
   "execution_count": null,
   "id": "ef8536f7",
   "metadata": {},
   "outputs": [],
   "source": []
  }
 ],
 "metadata": {
  "kernelspec": {
   "display_name": "Python 3 (ipykernel)",
   "language": "python",
   "name": "python3"
  },
  "language_info": {
   "codemirror_mode": {
    "name": "ipython",
    "version": 3
   },
   "file_extension": ".py",
   "mimetype": "text/x-python",
   "name": "python",
   "nbconvert_exporter": "python",
   "pygments_lexer": "ipython3",
   "version": "3.9.13"
  }
 },
 "nbformat": 4,
 "nbformat_minor": 5
}
