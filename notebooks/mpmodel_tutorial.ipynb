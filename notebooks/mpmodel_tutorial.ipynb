{
 "cells": [
  {
   "cell_type": "markdown",
   "id": "6b9af2b0",
   "metadata": {},
   "source": [
    "# MPModel: Infering the detergent corona around a membrane protein\n",
    "\n",
    "Throughout this tutorial, we will buid a coarse-grained model of a micelle around the  membrane protein Aquaporin-0 (PDB: 2B6P [1]) and use the `simSPI` package to simulate a cryo-EM experiment of the structure. For that, it is necessary to have installed the TEM-simulator [2] and the python libraries: Matplotlib Numpy, Gemmi, Scikit-learn and Scipy.\n",
    "\n",
    "\n",
    "<p align=\"center\">\n",
    "    <img src=\"figures/2b6p_map.png\" alt=\"Drawing\" style=\"width: 700px;\"/>\n",
    "    <p style=\"text-align: center\">\n",
    "        Figure 1: _Bos taurus_ Aquaporin-0 complex\n",
    "    </p>\n",
    "</p>\n",
    "\n",
    "\n",
    "[1] https://www.rcsb.org/structure/2B6P\n",
    "\n",
    "[2] http://tem-simulator.sourceforge.net/"
   ]
  },
  {
   "cell_type": "code",
   "execution_count": 1,
   "id": "15284d79",
   "metadata": {},
   "outputs": [],
   "source": [
    "import os\n",
    "import sys\n",
    "import warnings\n",
    "\n",
    "sys.path.append(os.path.dirname(os.getcwd()))\n",
    "warnings.filterwarnings(\"ignore\")"
   ]
  },
  {
   "cell_type": "code",
   "execution_count": 2,
   "id": "a25fae85",
   "metadata": {},
   "outputs": [],
   "source": [
    "import numpy as np\n",
    "import math\n",
    "import gemmi\n",
    "import torch\n",
    "import mrcfile\n",
    "from matplotlib import pyplot as plt, axes as ax\n",
    "from scipy.spatial.transform import Rotation as rot\n",
    "\n",
    "from simSPI.linear_simulator.linear_simulator import LinearSimulator\n",
    "from test_linear_simulator import init_data\n",
    "\n",
    "import detergent_belt as mpm\n",
    "import atomic_models"
   ]
  },
  {
   "cell_type": "markdown",
   "id": "346d0b18",
   "metadata": {},
   "source": [
    "## Creating the model\n",
    "### Extracting the protein atomic coordinates from a PDB file"
   ]
  },
  {
   "cell_type": "code",
   "execution_count": 3,
   "id": "ff108929",
   "metadata": {},
   "outputs": [],
   "source": [
    "ptn = mpm.MembraneProtein(\"6dmy.pdb\") #path to pdb file"
   ]
  },
  {
   "cell_type": "markdown",
   "id": "f41ecfec",
   "metadata": {},
   "source": [
    "<p align=\"center\">\n",
    "    <img src=\"figures/aquaporin.png\" alt=\"Drawing\" style=\"width: 400px;\"/>\n",
    "    <p style=\"text-align: center\">\n",
    "        Figure 2: Representation of the atomic coordinates of aquaporin\n",
    "    </p>\n",
    "</p>\n",
    "\n",
    "### Centering and rotating the structure\n",
    "<p style='text-align: justify;margin-right:10%;'>\n",
    "Using Principal Component Analysis (PCA), a method for data decomposition, we can extract the main axis where our data is distributed. We can use a matrix transformation as a function to represent a modification on our dataset. In this case, the transformation is aligning the principal component of the coordinate points to the Z-axis. Therefore, we can distribute the atoms on another axis and, by doing so, rotate the protein so that its transmembrane portion is positioned properly in space.\n",
    "</p>"
   ]
  },
  {
   "cell_type": "code",
   "execution_count": 8,
   "id": "930a3928",
   "metadata": {},
   "outputs": [],
   "source": [
    "ptn.rotate_protein(axis='Z')"
   ]
  },
  {
   "cell_type": "markdown",
   "id": "3ebc4c8c",
   "metadata": {},
   "source": [
    "<p align=\"center\">\n",
    "    <img src=\"figures/aquaporin_rotated.png\" alt=\"Drawing\" style=\"width: 400px;\"/>\n",
    "    <p style=\"text-align: center\">\n",
    "        Figure 3: Aquaporin structure rotated and centered at the origin\n",
    "    </p>\n",
    "</p>"
   ]
  },
  {
   "cell_type": "markdown",
   "id": "5f549d16",
   "metadata": {},
   "source": [
    "***\n",
    "### Creating a corona around the protein\n",
    "\n",
    "To create the Ellipsoid we will compute the points that satisfy the condition: \n",
    "$\\frac{x^{2}}{a^{2}} + \\frac{y^{2}}{b^{2}} + \\frac{z^{2}}{c^{2}} >= 1$\n",
    "\n",
    "Consider $O = (0,0,0)$, as the protein was centered after the coordinates were imported.\n",
    "\n",
    "<p align=\"center\">\n",
    "    <img src=\"figures/ellipsoid.png\" alt=\"Drawing\" style=\"width: 200px;\"/>\n",
    "    <p style=\"text-align: center\">\n",
    "        Figure 4: The geometric parameters of an ellipsoid\n",
    "    </p>\n",
    "</p>\n",
    "\n",
    "The method used in this program creates an ellipsoid by generating points iteratively in regular intervals dependent on the ray of the pseudoatom. After that, a function removes the coordinates in the most inner part of the ellipsoid that would conflict with the protein's atoms. This process' speed depends on the number of pseudo atoms, that itself depends on the parameters of the corona such as the height, determined by size of the transmembrane portion of the protein, and on the ray of the pseudo atoms filling the ellipsoid."
   ]
  },
  {
   "cell_type": "markdown",
   "id": "92c3d381",
   "metadata": {},
   "source": [
    "Let us create the hydrophobic interior ellipsoid of the corona with parameters chosen empirically for a better visualization of the exemple on Pymol.</br>\n",
    "\n",
    "major axis &rarr; 35Å</br>\n",
    "minor axis &rarr; 25Å</br>\n",
    "ellipticity &rarr; 2</br>\n",
    "pseudo atom type &rarr; CA</br>\n",
    "pseudo atom ray &rarr; 1.5</br>\n",
    "\n",
    "major axis &rarr; 40Å</br>\n",
    "minor axis &rarr; 30Å</br>\n",
    "ellipticity &rarr; 2</br>\n",
    "pseudo atom type &rarr; N</br>\n",
    "pseudo atom ray &rarr; 1.5"
   ]
  },
  {
   "cell_type": "code",
   "execution_count": 51,
   "id": "2ec08634",
   "metadata": {},
   "outputs": [],
   "source": [
    "axis = 30\n",
    "C = mpm.BeltCore()\n",
    "C.set_belt_parameters(axis-10, 50, 16,[-2,-2,40])    #set the parameters for the core of your micelle\n",
    "C.set_atomic_parameters(1.5, \"CA\")  #set the parameters for you hydrophilic pseudoatom\n",
    "C.generate_ellipsoid()\n",
    "\n",
    "S = mpm.BeltShell()\n",
    "S.set_belt_parameters(axis, 60, 26,[-2,-2,40])    #set the parameters for the shell of your micelle\n",
    "S.set_atomic_parameters(1.5, \"N\")   #set the parameters for you hydrophobic pseudoatom\n",
    "S.generate_ellipsoid()"
   ]
  },
  {
   "cell_type": "markdown",
   "id": "137ab45f",
   "metadata": {},
   "source": [
    "### Excluding the overlaping pseudoatoms\n",
    "Now that we have our two ellipsoids we need to delete from our corona the pseudo atoms that are physically overlapping with other atoms\n",
    "Observation: the next steps take a couple of minutes to run"
   ]
  },
  {
   "cell_type": "code",
   "execution_count": 52,
   "id": "21e8a108",
   "metadata": {},
   "outputs": [],
   "source": [
    "C.in_hull(ptn.final_coordinates)\n",
    "C.remove()\n",
    " \n",
    "S.in_hull(C.coordinates_set)\n",
    "S.remove()\n",
    "S.in_hull(ptn.final_coordinates)      \n",
    "S.remove()"
   ]
  },
  {
   "cell_type": "markdown",
   "id": "f737f51a",
   "metadata": {},
   "source": [
    "### Generating the final PDB file"
   ]
  },
  {
   "cell_type": "code",
   "execution_count": 53,
   "id": "928517c0",
   "metadata": {},
   "outputs": [],
   "source": [
    "file_name = \"outputs/pdb/6dmy/6dmy_30x60x26.pdb\"   #name your pdb file\n",
    "M = mpm.Model()\n",
    "M.clean_gemmi_structure()\n",
    "M.write_atomic_model(file_name, model=gemmi.Model(\"model\"))\n",
    "M.create_model(file_name,C,S,ptn)"
   ]
  },
  {
   "cell_type": "markdown",
   "id": "ee56c601",
   "metadata": {},
   "source": [
    "<p align=\"center\">\n",
    "    <img src=\"figures/aqp_model_abc.png\" alt=\"Drawing\" style=\"width: 600px;\"/>\n",
    "    <p style=\"text-align: center\">\n",
    "        Figure 5: Model of detergent micelle and membrane protein Aquaporin (AQP0) seen as A- full model, B- micelle\n",
    "hydrophobic core and C- frontal cut. The micelle hydrophobic core is represented in yellow,\n",
    "the hydrophilic shell in blue and the protein in pink.\n",
    "    </p>\n",
    "</p>"
   ]
  },
  {
   "cell_type": "markdown",
   "id": "00a30d25",
   "metadata": {},
   "source": [
    "XXXXXXXXXXXXX CHIMERAX XXXXXXXXXXXXX molmap #[structure] [res]\n",
    "\n",
    "ADD STEPS\n",
    "ADD IMAGE\n",
    "MAYBE AUTOMIZE"
   ]
  },
  {
   "cell_type": "markdown",
   "id": "5ba323c8",
   "metadata": {},
   "source": [
    "## Linear Simulation"
   ]
  },
  {
   "cell_type": "code",
   "execution_count": 4,
   "id": "7d52454e",
   "metadata": {},
   "outputs": [],
   "source": [
    "def rotation(N):\n",
    "    A = np.random.uniform(0,2*np.pi,N)\n",
    "    V = np.random.uniform(0,1,3)\n",
    "    R = []\n",
    "    for a in A:\n",
    "        r = rot.from_rotvec(a*V)\n",
    "        R.append(r.as_matrix())\n",
    "    return R #sampled rotations"
   ]
  },
  {
   "cell_type": "code",
   "execution_count": 54,
   "id": "1c12fd5a",
   "metadata": {},
   "outputs": [],
   "source": [
    "def LinSim(vol_path, data_path, rotations):\n",
    "    '''\n",
    "    rotations -> list of rotation matrices\n",
    "    '''\n",
    "    with mrcfile.open(vol_path) as file:\n",
    "        vol = file.data\n",
    "    saved_data, config = init_data(data_path)\n",
    "    \n",
    "    #nx = vol.shape[0]\n",
    "    nx = 200\n",
    "    config[\"input_volume_path\"] = vol_path\n",
    "    config[\"side_len\"] = nx\n",
    "    config[\"ctf_size\"] = nx\n",
    "    config[\"pixel_size\"] = 1.2\n",
    "    \n",
    "    config[\"noise\"] = True\n",
    "    config[\"noise_sigma\"] = 1\n",
    "\n",
    "    lin_sim = LinearSimulator(config)\n",
    "    \n",
    "    N = len(rotations)\n",
    "    \n",
    "    ctf_params = saved_data[\"ctf_params\"]\n",
    "    shift_params = saved_data[\"shift_params\"]\n",
    "    rot_params = {'rotmat': torch.Tensor(rotations)}\n",
    "    \n",
    "    ctf_params[\"defocus_u\"] = torch.tensor([1.1000,2.1000,1.5000,1.7000,1.1000,2.1000,1.5000,1.7000]).reshape(N,1,1,1)\n",
    "    ctf_params[\"defocus_v\"] = torch.tensor([1.0000,2.2000,1.6000,1.8000,1.10000,2.2000,1.6000,1.8000]).reshape(N,1,1,1)\n",
    "    ctf_params[\"defocus_angle\"] = torch.tensor([0.3142,1.5708,2.5133,3.1416,0.3142,1.5708,2.5133,3.1416]).reshape(N,1,1,1)\n",
    "    shift_params[\"shift_x\"] = torch.tensor([ 4.0000,  5.5000, -3.2000, -6.0000, 4.0000,  5.5000, -3.2000, -6.0000 ])\n",
    "    shift_params[\"shift_y\"] = torch.tensor([ 6.0000, -4.5000, -4.0000,  0.0000,  6.0000, -4.5000, -4.0000,  0.0000])\n",
    "\n",
    "    particles = lin_sim(rot_params, ctf_params, shift_params)\n",
    "    \n",
    "    return particles #torch tensor for particle projection"
   ]
  },
  {
   "cell_type": "code",
   "execution_count": 24,
   "id": "de4c4511",
   "metadata": {},
   "outputs": [],
   "source": [
    "#R = rotation(8)\n",
    "\n",
    "f, ax = plt.subplots(2, 4, figsize=(12, 6))\n",
    "\n",
    "#ax[0].imshow(proj[0, 0])\n",
    "#ax[1].imshow(proj[1, 0])\n",
    "#ax[2].imshow(proj[2, 0])\n",
    "#ax[3].imshow(proj[3, 0])\n",
    "\n",
    "ax[0,0].imshow(proj[0, 0])\n",
    "ax[0,1].imshow(proj[1, 0])\n",
    "ax[0,2].imshow(proj[2, 0])\n",
    "ax[0,3].imshow(proj[3, 0])\n",
    "ax[1,0].imshow(proj[4, 0])\n",
    "ax[1,1].imshow(proj[5, 0])\n",
    "ax[1,2].imshow(proj[6, 0])\n",
    "ax[1,3].imshow(proj[7, 0])"
   ]
  },
  {
   "cell_type": "markdown",
   "id": "2b47a93d",
   "metadata": {},
   "source": [
    "### Simulate images"
   ]
  },
  {
   "cell_type": "code",
   "execution_count": 55,
   "id": "5d9a736f",
   "metadata": {},
   "outputs": [],
   "source": [
    "R = [[[ 0.80635711, -0.01370839,  0.59127007],\n",
    "       [ 0.39410307,  0.75788644, -0.51989509],\n",
    "       [-0.44098864,  0.65224245,  0.61652964]],\n",
    "     [[ 0.06689542,  0.85905001,  0.50750181],\n",
    "       [ 0.97395306, -0.16666956,  0.15374228],\n",
    "       [ 0.21665741,  0.48399829, -0.84782382]],\n",
    "     [[ 0.1111205 ,  0.99294078,  0.04148306],\n",
    "       [ 0.75318596, -0.11137452,  0.64831059],\n",
    "       [ 0.64835418, -0.04079614, -0.76024505]],\n",
    "     [[ 0.92351078, -0.06264793,  0.37842182],\n",
    "       [ 0.21290437,  0.9043648 , -0.36985948],\n",
    "       [-0.31906044,  0.42213688,  0.84852866]],\n",
    "    [[ 0.92061443, -0.12424634,  0.37017823],\n",
    "       [ 0.23403454,  0.93444747, -0.26839478],\n",
    "       [-0.31256504,  0.3337226 ,  0.88934376]],\n",
    "    [[-0.23368781,  0.79206824,  0.56393077],\n",
    "       [ 0.91409036, -0.01871608,  0.40507842],\n",
    "       [ 0.33140433,  0.61014557, -0.71964822]],\n",
    "    [[-0.1085439 ,  0.99362457, -0.03047033],\n",
    "       [ 0.5394632 ,  0.08462134,  0.83774619],\n",
    "       [ 0.83498364,  0.07449461, -0.54520902]], \n",
    "    [[ 0.39405398,  0.05288187,  0.91756469],\n",
    "       [ 0.78512593,  0.49964088, -0.36597304],\n",
    "       [-0.47780616,  0.86461697,  0.15536655]]]"
   ]
  },
  {
   "cell_type": "code",
   "execution_count": 60,
   "id": "99a1f240",
   "metadata": {},
   "outputs": [],
   "source": [
    "sample = \"6dmy_60x60x26\"\n",
    "root_dir = \"/home/halv/\"  # change this to your simSPI directory.\n",
    "vol_path = f\"{root_dir}compSPI_fork/simSPI/notebooks/outputs/mrc/6dmy/{sample}.mrc\"\n",
    "data_path = f\"{root_dir}compSPI_fork/simSPI/tests/data/linear_simulator_data.npy\"\n",
    "proj_path = f\"{root_dir}compSPI_fork/simSPI/notebooks/outputs/projections/6dmy/gt.npy\""
   ]
  },
  {
   "cell_type": "code",
   "execution_count": 61,
   "id": "23ee1639",
   "metadata": {},
   "outputs": [],
   "source": [
    "proj = LinSim(vol_path, data_path, R)\n",
    "torch.save(proj, proj_path)"
   ]
  },
  {
   "cell_type": "code",
   "execution_count": null,
   "id": "50d35c60",
   "metadata": {},
   "outputs": [
    {
     "name": "stdout",
     "output_type": "stream",
     "text": [
      "<class 'torch.Tensor'>\n"
     ]
    }
   ],
   "source": [
    "proj1 = torch.load(proj_path)\n",
    "print(type(proj1))\n",
    "\n",
    "f, ax = plt.subplots(2, 4, figsize=(12, 6))\n",
    "\n",
    "ax[0,0].imshow(proj1[0, 0])\n",
    "ax[0,1].imshow(proj1[1, 0])\n",
    "ax[0,2].imshow(proj1[2, 0])\n",
    "ax[0,3].imshow(proj1[3, 0])\n",
    "ax[1,0].imshow(proj1[4, 0])\n",
    "ax[1,1].imshow(proj1[5, 0])\n",
    "ax[1,2].imshow(proj1[6, 0])\n",
    "ax[1,3].imshow(proj1[7, 0])"
   ]
  },
  {
   "cell_type": "markdown",
   "id": "91793a26",
   "metadata": {},
   "source": [
    "## Parameter Inference\n",
    "\n",
    "<p align=\"center\">\n",
    "    <img src=\"figures/parameters_new.png\" alt=\"Drawing\" style=\"width: 450px;\"/>\n",
    "    <p style=\"text-align: center\">\n",
    "        Figure 6: XXXXXXXXXXXXXXXXXXXXXXX ADD DESCRIPTION AND REFERENCE XXXXXXXXXXXXXXXXXXXX\n",
    "    </p>\n",
    "</p>\n",
    "\n",
    "We will infer the parameter \"a\" by Rejection Approximation Bayesian Computation."
   ]
  },
  {
   "cell_type": "code",
   "execution_count": 22,
   "id": "085c95cd",
   "metadata": {
    "scrolled": true
   },
   "outputs": [],
   "source": [
    "class ABC():\n",
    "    '''\n",
    "    e epsilon rejection criterion\n",
    "    obs image vector of ground truth\n",
    "    sim image vector of simulated model\n",
    "    '''\n",
    "    def l2(self, proj1, proj2):\n",
    "        norm = []\n",
    "        for i in range(len(proj1)):\n",
    "            norm.append(torch.sum((proj1[i]-proj2[i])**2))\n",
    "            rank = sorted(norm)\n",
    "        return rank #np.mean(norm)\n",
    "\n",
    "    def criterion(self, proj1, proj2):\n",
    "        e = ((self.criterion*10000) + 40000)   #normalized criterion\n",
    "        if l2(proj1,proj2) <= e:\n",
    "            return True\n",
    "            \n",
    "    def generate_model():\n",
    "        pass\n",
    "\n",
    "    def runABC(self):\n",
    "        samples = self.samples\n",
    "        a = np.random.uniform()   #sample parameter a\n",
    "        model = generate_model()  #create model using sampled a\n",
    "        self.accepted = []\n",
    "        for i in range(samples):   \n",
    "            sim_proj = LinSim(vol_path, data_path, rot) #simulate image with generated model x100\n",
    "            #superimpose images\n",
    "            if criterion(obs_proj, sim_proj):\n",
    "                self.accepted.append(a)   #save parameter\n",
    "\n",
    "        self.result = np.mean(self.accepted)\n",
    "        self.rank = sorted(self.accepted)"
   ]
  },
  {
   "cell_type": "markdown",
   "id": "6d215b97",
   "metadata": {},
   "source": [
    "### Metrics"
   ]
  },
  {
   "cell_type": "code",
   "execution_count": 4,
   "id": "1dcf19fb",
   "metadata": {},
   "outputs": [],
   "source": [
    "def mse(proj1, proj2):\n",
    "    se = []\n",
    "    for i in range(len(proj1)):\n",
    "        se.append(torch.sum((proj1[i]-proj2[i])**2))\n",
    "    return np.mean(se)\n",
    "    \n",
    "def rmsd(proj1, proj2):\n",
    "    sd = []\n",
    "    for i in range(len(proj1)):\n",
    "        sd.append(torch.sum((proj1[i]-proj2[i])**2))\n",
    "    return np.mean(np.sqrt(sd))\n",
    "\n",
    "def psnr(proj1, proj2):\n",
    "    p1 = torch.max(proj1)\n",
    "    p2 = torch.max(proj2)\n",
    "    if p1 >= p2:\n",
    "        p = p1\n",
    "    else:\n",
    "        p = p2\n",
    "    se = []\n",
    "    for i in range(len(proj1)):\n",
    "        se.append(torch.sum((proj1[i]-proj2[i])**2))\n",
    "    mse = np.mean(se)\n",
    "    psnr = (10*(np.log10(p)**2))/mse\n",
    "    return psnr"
   ]
  },
  {
   "cell_type": "code",
   "execution_count": 5,
   "id": "f9b8c3e6",
   "metadata": {},
   "outputs": [],
   "source": [
    "from torchmetrics.image import MultiScaleStructuralSimilarityIndexMeasure as ms_ssim\n",
    "from torchmetrics.image import UniversalImageQualityIndex"
   ]
  },
  {
   "cell_type": "code",
   "execution_count": 98,
   "id": "97ec0b5d",
   "metadata": {},
   "outputs": [],
   "source": [
    "root_dir = \"/home/halv/\"  # change this to your simSPI directory.\n",
    "gt = \"6nsj_50x50x25\"\n",
    "gt_proj = torch.load(f\"{root_dir}compSPI_fork/simSPI/notebooks/outputs/projections/6nsj/{gt}.npy\")\n",
    "\n",
    "dataset = dict()"
   ]
  },
  {
   "cell_type": "code",
   "execution_count": 114,
   "id": "d7842db5",
   "metadata": {},
   "outputs": [],
   "source": [
    "sim = \"6nsj_80x80x25\"\n",
    "sim_proj = torch.load(f\"{root_dir}compSPI_fork/simSPI/notebooks/outputs/projections/6nsj/{sim}.npy\")"
   ]
  },
  {
   "cell_type": "code",
   "execution_count": 115,
   "id": "64675535",
   "metadata": {},
   "outputs": [
    {
     "name": "stdout",
     "output_type": "stream",
     "text": [
      "tensor(4.2166e-05) {'6nsj_45x45x25': tensor(7.1990e-05), '6nsj_50x50x25': tensor(0.0004), '6nsj_55x55x25': tensor(0.0001), '6nsj_60x60x25': tensor(5.9934e-05), '6nsj_65x65x25': tensor(4.3408e-05), '6nsj_70x70x25': tensor(3.9824e-05), '6nsj_75x75x25': tensor(3.9885e-05), '6nsj_80x80x25': tensor(4.2166e-05)}\n"
     ]
    }
   ],
   "source": [
    "uqi = UniversalImageQualityIndex()\n",
    "\n",
    "distance = psnr(gt_proj, sim_proj)\n",
    "dataset[sim] = distance\n",
    "print(distance, dataset)"
   ]
  },
  {
   "cell_type": "code",
   "execution_count": null,
   "id": "f0249b00",
   "metadata": {},
   "outputs": [],
   "source": [
    "6nsj_ell_mse = {'6nsj_45x50x25': 165984.66, '6nsj_50x50x25': 39938.473, '6nsj_55x50x25': 79683.164, \n",
    "           '6nsj_60x50x25': 206437.4, '6nsj_65x50x25': 307591.88, '6nsj_70x50x25': 349634.6, \n",
    "           '6nsj_75x50x25': 379704.56, '6nsj_80x50x25': 384298.12}\n",
    "6nsj_ell_rmsd = {'6nsj_45x50x25': 400.16388, '6nsj_50x50x25': 199.8453, '6nsj_55x50x25': 280.30017, \n",
    "                 '6nsj_60x50x25': 444.63068, '6nsj_65x50x25': 541.0524, '6nsj_70x50x25': 576.74585, \n",
    "                 '6nsj_75x50x25': 601.90125, '6nsj_80x50x25': 606.81415}\n",
    "6nsj_ell_psnr = {'6nsj_45x50x25': tensor(0.0001), '6nsj_50x50x25': tensor(0.0004), \n",
    "                 '6nsj_55x50x25': tensor(0.0002), '6nsj_60x50x25': tensor(8.7270e-05), \n",
    "                 '6nsj_65x50x25': tensor(5.9182e-05), '6nsj_70x50x25': tensor(5.0708e-05), \n",
    "                 '6nsj_75x50x25': tensor(4.5270e-05), '6nsj_80x50x25': tensor(4.4729e-05)}\n",
    "6nsj_ell_uqi = {'6nsj_45x50x25': tensor(0.2010), '6nsj_50x50x25': tensor(0.4541), \n",
    "                '6nsj_55x50x25': tensor(0.3133), '6nsj_60x50x25': tensor(0.1501), \n",
    "                '6nsj_65x50x25': tensor(0.0975), '6nsj_70x50x25': tensor(0.0773), \n",
    "                '6nsj_75x50x25': tensor(0.0657), '6nsj_80x50x25': tensor(0.0580)}\n",
    "\n",
    "\n",
    "6nsj_cir_mse = {'6nsj_45x45x25': 258523.9, '6nsj_50x50x25': 39938.473, '6nsj_55x55x25': 116498.914, \n",
    "           '6nsj_60x60x25': 297419.2, '6nsj_65x65x25': 395996.56, '6nsj_70x70x25': 431631.25, \n",
    "           '6nsj_75x75x25': 430970.25, '6nsj_80x80x25': 407661.16}\n",
    "6nsj_cir_rmsd = {'6nsj_45x45x25': 503.02505, '6nsj_50x50x25': 199.8453, '6nsj_55x55x25': 339.31647, \n",
    "                 '6nsj_60x60x25': 538.5089, '6nsj_65x65x25': 621.0999, '6nsj_70x70x25': 649.4824, \n",
    "                 '6nsj_75x75x25': 650.2472, '6nsj_80x80x25': 633.68494}\n",
    "6nsj_cir_psnr ={'6nsj_45x45x25': tensor(7.1990e-05), '6nsj_50x50x25': tensor(0.0004), \n",
    "                '6nsj_55x55x25': tensor(0.0001), '6nsj_60x60x25': tensor(5.9934e-05), \n",
    "                '6nsj_65x65x25': tensor(4.3408e-05), '6nsj_70x70x25': tensor(3.9824e-05), \n",
    "                '6nsj_75x75x25': tensor(3.9885e-05), '6nsj_80x80x25': tensor(4.2166e-05)}\n",
    "6nsj_cir_uqi = {'6nsj_45x45x25': tensor(0.0994), '6nsj_50x50x25': tensor(0.4541), \n",
    "                '6nsj_55x55x25': tensor(0.2257), '6nsj_60x60x25': tensor(0.0464), \n",
    "                '6nsj_65x65x25': tensor(0.0232), '6nsj_70x70x25': tensor(0.0062), \n",
    "                '6nsj_75x75x25': tensor(0.0002), '6nsj_80x80x25': tensor(0.0026)}\n",
    "\n",
    "\n",
    "7wsn_mse = {'7wsn_50x40x25': 40149.305, '7wsn_20x40x25': 279642.56, '7wsn_25x40x25': 265809.12, \n",
    "        '7wsn_30x40x25': 223505.69, '7wsn_35x40x25': 153820.53, '7wsn_40x40x25': 109778.05, \n",
    "        '7wsn_45x40x25': 59534.04, '7wsn_55x40x25': 49390.47, '7wsn_60x40x25': 70199.59, \n",
    "        '7wsn_65x40x25': 95364.17, '7wsn_70x40x25': 112922.984, '7wsn_75x40x25': 128386.125, \n",
    "        '7wsn_80x40x25': 139803.42}\n",
    "7wsn_rmsd = {'7wsn_20x40x25': 526.97833, '7wsn_25x40x25': 513.81995, '7wsn_30x40x25': 471.21075, \n",
    "             '7wsn_35x40x25': 390.30798, '7wsn_40x40x25': 329.91663, '7wsn_45x40x25': 243.64532, \n",
    "             '7wsn_50x40x25': 200.37125, '7wsn_55x40x25': 222.11444, '7wsn_60x40x25': 264.14392, \n",
    "             '7wsn_65x40x25': 307.09174, '7wsn_70x40x25': 333.93845, '7wsn_75x40x25': 355.78076, \n",
    "             '7wsn_80x40x25': 371.1292}\n",
    "7wsn_psnr = {'7wsn_20x40x25': tensor(6.8210e-05), '7wsn_25x40x25': tensor(7.1748e-05), \n",
    "             '7wsn_30x40x25': tensor(8.2719e-05), '7wsn_35x40x25': tensor(0.0001), \n",
    "             '7wsn_40x40x25': tensor(0.0002), '7wsn_45x40x25': tensor(0.0003), \n",
    "             '7wsn_50x40x25': tensor(0.0004), '7wsn_55x40x25': tensor(0.0003), \n",
    "             '7wsn_60x40x25': tensor(0.0002), '7wsn_65x40x25': tensor(0.0002), \n",
    "             '7wsn_70x40x25': tensor(0.0001), '7wsn_75x40x25': tensor(0.0001), \n",
    "             '7wsn_80x40x25': tensor(0.0001)}\n",
    "7wsn_uqi = {'7wsn_20x40x25': tensor(0.0293), '7wsn_25x40x25': tensor(0.0293), \n",
    "            '7wsn_30x40x25': tensor(0.0481), '7wsn_35x40x25': tensor(0.0729), \n",
    "            '7wsn_40x40x25': tensor(0.1134), '7wsn_45x40x25': tensor(0.1893), \n",
    "            '7wsn_50x40x25': tensor(0.2734), '7wsn_55x40x25': tensor(0.2154), \n",
    "            '7wsn_60x40x25': tensor(0.1513), '7wsn_65x40x25': tensor(0.1021), \n",
    "            '7wsn_70x40x25': tensor(0.0803), '7wsn_75x40x25': tensor(0.0684), \n",
    "            '7wsn_80x40x25': tensor(0.0611)}"
   ]
  }
 ],
 "metadata": {
  "kernelspec": {
   "display_name": "Python 3 (ipykernel)",
   "language": "python",
   "name": "python3"
  },
  "language_info": {
   "codemirror_mode": {
    "name": "ipython",
    "version": 3
   },
   "file_extension": ".py",
   "mimetype": "text/x-python",
   "name": "python",
   "nbconvert_exporter": "python",
   "pygments_lexer": "ipython3",
   "version": "3.8.10"
  }
 },
 "nbformat": 4,
 "nbformat_minor": 5
}
