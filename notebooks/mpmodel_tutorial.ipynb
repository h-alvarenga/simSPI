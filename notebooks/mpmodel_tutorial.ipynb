{
 "cells": [
  {
   "cell_type": "markdown",
   "id": "6b9af2b0",
   "metadata": {},
   "source": [
    "# MPModel: A program to the detergent corona around a membrane protein\n",
    "\n",
    "Throughout this tutorial, we will buid a coarse-grained model of a micelle around the  membrane protein Aquaporin-0 (PDB: 2B6P [1]) and use the `simSPI` package to simulate a cryo-EM experiment of the structure. For that, it is necessary to have installed the TEM-simulator [2] and the python libraries: Matplotlib Numpy, Gemmi, Scikit-learn and Scipy.\n",
    "\n",
    "\n",
    "<p align=\"center\">\n",
    "    <img src=\"figures/2b6p_map.png\" alt=\"Drawing\" style=\"width: 700px;\"/>\n",
    "    <p style=\"text-align: center\">\n",
    "        Figure 1: _Bos taurus_ Aquaporin-0 complex\n",
    "    </p>\n",
    "</p>\n",
    "\n",
    "\n",
    "[1] https://www.rcsb.org/structure/2B6P\n",
    "\n",
    "[2] http://tem-simulator.sourceforge.net/"
   ]
  },
  {
   "cell_type": "code",
   "execution_count": 12,
   "id": "a25fae85",
   "metadata": {},
   "outputs": [
    {
     "ename": "ModuleNotFoundError",
     "evalue": "No module named 'simSPI'",
     "output_type": "error",
     "traceback": [
      "\u001b[0;31m---------------------------------------------------------------------------\u001b[0m",
      "\u001b[0;31mModuleNotFoundError\u001b[0m                       Traceback (most recent call last)",
      "\u001b[0;32m/tmp/ipykernel_135/4136009556.py\u001b[0m in \u001b[0;36m<module>\u001b[0;34m\u001b[0m\n\u001b[1;32m      3\u001b[0m \u001b[0;32mimport\u001b[0m \u001b[0mgemmi\u001b[0m\u001b[0;34m\u001b[0m\u001b[0;34m\u001b[0m\u001b[0m\n\u001b[1;32m      4\u001b[0m \u001b[0;32mimport\u001b[0m \u001b[0mdetergent_belt\u001b[0m \u001b[0;32mas\u001b[0m \u001b[0mmpm\u001b[0m\u001b[0;34m\u001b[0m\u001b[0;34m\u001b[0m\u001b[0m\n\u001b[0;32m----> 5\u001b[0;31m \u001b[0;32mfrom\u001b[0m \u001b[0msimSPI\u001b[0m \u001b[0;32mimport\u001b[0m \u001b[0mtem\u001b[0m\u001b[0;34m\u001b[0m\u001b[0;34m\u001b[0m\u001b[0m\n\u001b[0m",
      "\u001b[0;31mModuleNotFoundError\u001b[0m: No module named 'simSPI'"
     ]
    }
   ],
   "source": [
    "import numpy as np\n",
    "import atomic_models\n",
    "import gemmi\n",
    "import detergent_belt as mpm\n",
    "from simSPI import tem"
   ]
  },
  {
   "cell_type": "markdown",
   "id": "346d0b18",
   "metadata": {},
   "source": [
    "## Creating the model\n",
    "### Extracting the protein atomic coordinates from a PDB file"
   ]
  },
  {
   "cell_type": "code",
   "execution_count": 7,
   "id": "ff108929",
   "metadata": {},
   "outputs": [],
   "source": [
    "aqp = mpm.MembraneProtein(\"2b6p.pdb\") #path to pdb file"
   ]
  },
  {
   "cell_type": "markdown",
   "id": "f41ecfec",
   "metadata": {},
   "source": [
    "<p align=\"center\">\n",
    "    <img src=\"figures/aquaporin.png\" alt=\"Drawing\" style=\"width: 400px;\"/>\n",
    "    <p style=\"text-align: center\">\n",
    "        Figure 2: Representation of the atomic coordinates of aquaporin\n",
    "    </p>\n",
    "</p>\n",
    "\n",
    "### Centering and rotating the structure\n",
    "<p style='text-align: justify;margin-right:10%;'>\n",
    "Using Principal Component Analysis (PCA), a method for data decomposition, we can extract the main axis where our data is distributed. We can use a matrix transformation as a function to represent a modification on our dataset. In this case, the transformation is aligning the principal component of the coordinate points to the Z-axis. Therefore, we can distribute the atoms on another axis and, by doing so, rotate the protein so that its transmembrane portion is positioned properly in space.\n",
    "</p>"
   ]
  },
  {
   "cell_type": "code",
   "execution_count": 8,
   "id": "930a3928",
   "metadata": {},
   "outputs": [],
   "source": [
    "aqp.rotate_protein(axis='X')"
   ]
  },
  {
   "cell_type": "markdown",
   "id": "3ebc4c8c",
   "metadata": {},
   "source": [
    "<p align=\"center\">\n",
    "    <img src=\"figures/aquaporin_rotated.png\" alt=\"Drawing\" style=\"width: 400px;\"/>\n",
    "    <p style=\"text-align: center\">\n",
    "        Figure 3: Aquaporin structure rotated and centered at the origin\n",
    "    </p>\n",
    "</p>"
   ]
  },
  {
   "cell_type": "markdown",
   "id": "5f549d16",
   "metadata": {},
   "source": [
    "***\n",
    "### Creating a corona around the protein\n",
    "\n",
    "To create the Ellipsoid we will compute the points that satisfy the condition: \n",
    "$\\frac{x^{2}}{a^{2}} + \\frac{y^{2}}{b^{2}} + \\frac{z^{2}}{c^{2}} >= 1$\n",
    "\n",
    "Consider $O = (0,0,0)$, as the protein was centered after the coordinates were imported.\n",
    "\n",
    "<p align=\"center\">\n",
    "    <img src=\"figures/ellipsoid.png\" alt=\"Drawing\" style=\"width: 200px;\"/>\n",
    "    <p style=\"text-align: center\">\n",
    "        Figure 4: The geometric parameters of an ellipsoid\n",
    "    </p>\n",
    "</p>\n",
    "\n",
    "The method used in this program creates an ellipsoid by generating points iteratively in regular intervals dependent on the ray of the pseudoatom. After that, a function removes the coordinates in the most inner part of the ellipsoid that would conflict with the protein's atoms. This process' speed depends on the number of pseudo atoms, that itself depends on the parameters of the corona such as the height, determined by size of the transmembrane portion of the protein, and on the ray of the pseudo atoms filling the ellipsoid."
   ]
  },
  {
   "cell_type": "markdown",
   "id": "92c3d381",
   "metadata": {},
   "source": [
    "Let us create the hydrophobic interior ellipsoid of the corona with parameters chosen empirically for a better visualization of the exemple on Pymol.</br>\n",
    "\n",
    "major axis &rarr; 35Å</br>\n",
    "minor axis &rarr; 25Å</br>\n",
    "ellipticity &rarr; 2</br>\n",
    "pseudo atom type &rarr; CA</br>\n",
    "pseudo atom ray &rarr; 1.5</br>\n",
    "\n",
    "major axis &rarr; 40Å</br>\n",
    "minor axis &rarr; 30Å</br>\n",
    "ellipticity &rarr; 2</br>\n",
    "pseudo atom type &rarr; N</br>\n",
    "pseudo atom ray &rarr; 1.5"
   ]
  },
  {
   "cell_type": "code",
   "execution_count": 9,
   "id": "2ec08634",
   "metadata": {},
   "outputs": [],
   "source": [
    "C = mpm.BeltCore()\n",
    "C.set_belt_parameters(35, 25, 2)    #set the parameters for the core of your micelle\n",
    "C.set_atomic_parameters(1.5, \"CA\")  #set the parameters for you hydrophilic pseudoatom\n",
    "C.generate_ellipsoid()\n",
    "\n",
    "S = mpm.BeltShell()\n",
    "S.set_belt_parameters(40, 30, 2)    #set the parameters for the shell of your micelle\n",
    "S.set_atomic_parameters(1.5, \"N\")   #set the parameters for you hydrophobic pseudoatom\n",
    "S.generate_ellipsoid()"
   ]
  },
  {
   "cell_type": "markdown",
   "id": "137ab45f",
   "metadata": {},
   "source": [
    "### Excluding the overlaping pseudoatoms\n",
    "Now that we have our two ellipsoids we need to delete from our corona the pseudo atoms that are physically overlapping with other atoms\n",
    "Observation: the next steps take a couple of minutes to run"
   ]
  },
  {
   "cell_type": "code",
   "execution_count": 10,
   "id": "21e8a108",
   "metadata": {},
   "outputs": [],
   "source": [
    "C.in_hull(aqp.final_coordinates)\n",
    "C.remove()\n",
    " \n",
    "S.in_hull(C.coordinates_set)\n",
    "S.remove()\n",
    "S.in_hull(aqp.final_coordinates)      \n",
    "S.remove()"
   ]
  },
  {
   "cell_type": "markdown",
   "id": "f737f51a",
   "metadata": {},
   "source": [
    "### Generating the final PDB file"
   ]
  },
  {
   "cell_type": "code",
   "execution_count": 14,
   "id": "928517c0",
   "metadata": {},
   "outputs": [],
   "source": [
    "file_name = \"outputs/my_model.pdb\"   #name your pdb file\n",
    "M = mpm.Model()\n",
    "M.clean_gemmi_structure()\n",
    "M.write_atomic_model(file_name, model=gemmi.Model(\"model\"))\n",
    "M.create_model(file_name,C,S,aqp)"
   ]
  },
  {
   "cell_type": "markdown",
   "id": "ee56c601",
   "metadata": {},
   "source": [
    "<p align=\"center\">\n",
    "    <img src=\"figures/aqp_model_abc.png\" alt=\"Drawing\" style=\"width: 600px;\"/>\n",
    "    <p style=\"text-align: center\">\n",
    "        Figure 5: Model of detergent micelle and membrane protein Aquaporin (AQP0) seen as A- full model, B- micelle\n",
    "hydrophobic core and C- frontal cut. The micelle hydrophobic core is represented in yellow,\n",
    "the hydrophilic shell in blue and the protein in pink.\n",
    "    </p>\n",
    "</p>"
   ]
  },
  {
   "cell_type": "markdown",
   "id": "5ba323c8",
   "metadata": {},
   "source": [
    "## TEM-simulator"
   ]
  },
  {
   "cell_type": "code",
   "execution_count": null,
   "id": "1c12fd5a",
   "metadata": {},
   "outputs": [],
   "source": []
  }
 ],
 "metadata": {
  "kernelspec": {
   "display_name": "Python 3 (ipykernel)",
   "language": "python",
   "name": "python3"
  },
  "language_info": {
   "codemirror_mode": {
    "name": "ipython",
    "version": 3
   },
   "file_extension": ".py",
   "mimetype": "text/x-python",
   "name": "python",
   "nbconvert_exporter": "python",
   "pygments_lexer": "ipython3",
   "version": "3.9.7"
  }
 },
 "nbformat": 4,
 "nbformat_minor": 5
}
