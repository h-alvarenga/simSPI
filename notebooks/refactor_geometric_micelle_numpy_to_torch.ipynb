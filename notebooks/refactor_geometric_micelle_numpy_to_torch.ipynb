{
 "cells": [
  {
   "cell_type": "markdown",
   "id": "82509f88",
   "metadata": {},
   "source": [
    "# Goal:\n",
    "refactor to torch tensors"
   ]
  },
  {
   "cell_type": "markdown",
   "id": "30145bec",
   "metadata": {},
   "source": [
    "# all tests"
   ]
  },
  {
   "cell_type": "code",
   "execution_count": 1,
   "id": "4c53c91a",
   "metadata": {},
   "outputs": [
    {
     "name": "stdout",
     "output_type": "stream",
     "text": [
      "else\n",
      "else\n",
      "else\n",
      "else\n",
      "about z-axis\n",
      "about z-axis\n",
      "90 deg, line along x-axis\n",
      "90 deg, line along x-axis\n",
      "90 deg, line along y-axis\n",
      "90 deg, line along y-axis\n",
      "90 deg, line along y-axis with z-tilt\n",
      "90 deg, line along y-axis with z-tilt\n",
      "90 deg, line along x-axis with z-tilt\n",
      "90 deg, line along x-axis with z-tilt\n",
      "else\n",
      "else\n",
      "else\n",
      "else\n",
      "else\n",
      "else\n",
      "else\n",
      "else\n"
     ]
    }
   ],
   "source": [
    "import tests.test_geometric_micelle\n",
    "\n",
    "tests.test_geometric_micelle.test_project_rotated_cylinder()\n",
    "tests.test_geometric_micelle.test_project_rotated_ellipsoid()\n",
    "tests.test_geometric_micelle.test_projected_rotated_circle()\n",
    "tests.test_geometric_micelle.test_projected_rotated_circle()\n",
    "tests.test_geometric_micelle.test_two_phase_micelle()"
   ]
  },
  {
   "cell_type": "markdown",
   "id": "ee6ea83f",
   "metadata": {},
   "source": [
    "# dev"
   ]
  },
  {
   "cell_type": "code",
   "execution_count": null,
   "id": "799291ba",
   "metadata": {},
   "outputs": [],
   "source": [
    "import torch"
   ]
  },
  {
   "cell_type": "code",
   "execution_count": null,
   "id": "2b3683da",
   "metadata": {},
   "outputs": [],
   "source": [
    "from tests.test_geometric_micelle import test_project_rotated_ellipsoid"
   ]
  },
  {
   "cell_type": "code",
   "execution_count": null,
   "id": "6c1d635d",
   "metadata": {},
   "outputs": [],
   "source": [
    "test_project_rotated_ellipsoid()"
   ]
  },
  {
   "cell_type": "code",
   "execution_count": null,
   "id": "e4fbfdbd",
   "metadata": {},
   "outputs": [],
   "source": [
    "a,b = 10, 10\n",
    "step_x=step_y=1\n",
    "max_axis = max(a, b)\n",
    "x_mesh, y_mesh = torch.meshgrid(torch.arange(-max_axis, max_axis, step=step_x), torch.arange(-max_axis, max_axis, step=step_y))"
   ]
  },
  {
   "cell_type": "code",
   "execution_count": null,
   "id": "47d198cd",
   "metadata": {},
   "outputs": [],
   "source": [
    "from tests.test_geometric_micelle import test_projected_rotated_circle\n",
    "test_projected_rotated_circle()"
   ]
  },
  {
   "cell_type": "code",
   "execution_count": null,
   "id": "22636bb2",
   "metadata": {},
   "outputs": [],
   "source": [
    "a, b = 1, 1\n",
    "step_x, step_y = 0.01, 0.01\n",
    "y_mesh, x_mesh = torch.meshgrid(torch.arange(-a,a,step=step_x).float(),torch.arange(-b,b,step=step_y).float())\n",
    "x, y = x_mesh, y_mesh"
   ]
  },
  {
   "cell_type": "code",
   "execution_count": null,
   "id": "87e76b66",
   "metadata": {},
   "outputs": [],
   "source": [
    "from simSPI.geometric_micelle import projected_rotated_circle\n",
    "radius_circle=1\n",
    "circle = projected_rotated_circle(x, y, radius_circle, rotation=torch.eye(3))"
   ]
  },
  {
   "cell_type": "code",
   "execution_count": null,
   "id": "bf55bc23",
   "metadata": {},
   "outputs": [],
   "source": [
    "circle.float().mean()"
   ]
  },
  {
   "cell_type": "code",
   "execution_count": null,
   "id": "4ee73b90",
   "metadata": {},
   "outputs": [],
   "source": [
    "from tests.test_geometric_micelle import test_project_rotated_cylinder\n",
    "test_project_rotated_cylinder()"
   ]
  },
  {
   "cell_type": "code",
   "execution_count": null,
   "id": "2ece4e51",
   "metadata": {},
   "outputs": [],
   "source": [
    "import torch\n",
    "a, b, c = torch.zeros(3,3)[:,-1].numpy()\n",
    "a"
   ]
  },
  {
   "cell_type": "code",
   "execution_count": null,
   "id": "2dbb540c",
   "metadata": {},
   "outputs": [],
   "source": [
    "import torch\n",
    "\n",
    "torch.arange(10).float() > 4"
   ]
  },
  {
   "cell_type": "code",
   "execution_count": null,
   "id": "3f2d9723",
   "metadata": {},
   "outputs": [],
   "source": [
    "hi = torch.arange(10).float() > 4\n",
    "hi2 = torch.arange(10).float() > 5\n",
    "assert torch.eq(hi,hi2).all()"
   ]
  },
  {
   "cell_type": "code",
   "execution_count": null,
   "id": "fc476cf3",
   "metadata": {},
   "outputs": [],
   "source": [
    "from tests.test_geometric_micelle import test_two_phase_micelle\n",
    "test_two_phase_micelle()"
   ]
  },
  {
   "cell_type": "code",
   "execution_count": null,
   "id": "17ea918d",
   "metadata": {},
   "outputs": [],
   "source": [
    "import torch\n",
    "torch.clamp(torch.arange(10),3,7)"
   ]
  },
  {
   "cell_type": "code",
   "execution_count": null,
   "id": "a73c7801",
   "metadata": {},
   "outputs": [],
   "source": [
    "import numpy as np\n",
    "np.clip(np.arange(10),3,7)"
   ]
  },
  {
   "cell_type": "code",
   "execution_count": null,
   "id": "80221e3b",
   "metadata": {},
   "outputs": [],
   "source": [
    "torch.clamp?"
   ]
  },
  {
   "cell_type": "code",
   "execution_count": null,
   "id": "2e791908",
   "metadata": {},
   "outputs": [],
   "source": [
    "\n",
    "abs(-1.2)"
   ]
  },
  {
   "cell_type": "code",
   "execution_count": null,
   "id": "8f117bb8",
   "metadata": {},
   "outputs": [],
   "source": [
    "round"
   ]
  },
  {
   "cell_type": "code",
   "execution_count": null,
   "id": "267acb28",
   "metadata": {},
   "outputs": [],
   "source": [
    "round(1.4)"
   ]
  },
  {
   "cell_type": "code",
   "execution_count": null,
   "id": "656a0679",
   "metadata": {},
   "outputs": [],
   "source": []
  }
 ],
 "metadata": {
  "kernelspec": {
   "display_name": "Python 3 (ipykernel)",
   "language": "python",
   "name": "python3"
  },
  "language_info": {
   "codemirror_mode": {
    "name": "ipython",
    "version": 3
   },
   "file_extension": ".py",
   "mimetype": "text/x-python",
   "name": "python",
   "nbconvert_exporter": "python",
   "pygments_lexer": "ipython3",
   "version": "3.9.13"
  }
 },
 "nbformat": 4,
 "nbformat_minor": 5
}
