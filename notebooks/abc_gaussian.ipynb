{
 "cells": [
  {
   "cell_type": "code",
   "execution_count": 5,
   "id": "7d5a02a0",
   "metadata": {},
   "outputs": [],
   "source": [
    "import pyro\n",
    "import pyro.distributions as dist\n",
    "import pandas as pd"
   ]
  },
  {
   "cell_type": "code",
   "execution_count": 45,
   "id": "04b6e93b",
   "metadata": {},
   "outputs": [],
   "source": [
    "def model(size,\n",
    "          obs_std=None,\n",
    "          obs_y=None\n",
    "         ):\n",
    "    std = pyro.sample('std', dist.Gamma(1,1), obs=obs_std)\n",
    "    with pyro.plate('data', size):\n",
    "        y = pyro.sample('y', dist.Normal(0,std), obs=obs_y)\n",
    "    return y, std"
   ]
  },
  {
   "cell_type": "code",
   "execution_count": 66,
   "id": "5517e554",
   "metadata": {},
   "outputs": [
    {
     "name": "stderr",
     "output_type": "stream",
     "text": [
      "/Users/gw/miniconda2/envs/phys_aware_cryoem_202207/lib/python3.7/site-packages/pyro/primitives.py:139: RuntimeWarning: trying to observe a value outside of inference at std\n",
      "  RuntimeWarning,\n"
     ]
    }
   ],
   "source": [
    "y_gt, std_gt = model(100, obs_std=1)"
   ]
  },
  {
   "cell_type": "code",
   "execution_count": 125,
   "id": "8bfb257a",
   "metadata": {},
   "outputs": [],
   "source": [
    "# ((y_gt - y_gt.mean())**2).mean(), y_gt.std()"
   ]
  },
  {
   "cell_type": "code",
   "execution_count": 30,
   "id": "28f202e8",
   "metadata": {},
   "outputs": [
    {
     "data": {
      "text/plain": [
       "<AxesSubplot:ylabel='Frequency'>"
      ]
     },
     "execution_count": 30,
     "metadata": {},
     "output_type": "execute_result"
    },
    {
     "data": {
      "image/png": "[encoded data removed]",
      "text/plain": [
       "<Figure size 432x288 with 1 Axes>"
      ]
     },
     "metadata": {
      "needs_background": "light"
     },
     "output_type": "display_data"
    }
   ],
   "source": [
    "pd.Series(y_gt.numpy()).plot.hist(bins=100)"
   ]
  },
  {
   "cell_type": "code",
   "execution_count": null,
   "id": "051d3b79",
   "metadata": {},
   "outputs": [],
   "source": [
    "y_test, std_test = model(100000, obs_std=1)"
   ]
  },
  {
   "cell_type": "code",
   "execution_count": 40,
   "id": "7035b491",
   "metadata": {},
   "outputs": [
    {
     "data": {
      "text/plain": [
       "1"
      ]
     },
     "execution_count": 40,
     "metadata": {},
     "output_type": "execute_result"
    }
   ],
   "source": [
    "std_test"
   ]
  },
  {
   "cell_type": "code",
   "execution_count": 39,
   "id": "bc6dace7",
   "metadata": {},
   "outputs": [
    {
     "data": {
      "text/plain": [
       "<AxesSubplot:ylabel='Frequency'>"
      ]
     },
     "execution_count": 39,
     "metadata": {},
     "output_type": "execute_result"
    },
    {
     "data": {
      "image/png": "[encoded data removed]",
      "text/plain": [
       "<Figure size 432x288 with 1 Axes>"
      ]
     },
     "metadata": {
      "needs_background": "light"
     },
     "output_type": "display_data"
    }
   ],
   "source": [
    "pd.Series(y_test.numpy()).plot.hist(bins=100, alpha=0.5)\n",
    "pd.Series(y_gt.numpy()).plot.hist(bins=100, alpha=0.5)"
   ]
  },
  {
   "cell_type": "markdown",
   "id": "7294c26e",
   "metadata": {},
   "source": [
    "# ABC"
   ]
  },
  {
   "cell_type": "code",
   "execution_count": 110,
   "id": "4ab8c3b1",
   "metadata": {},
   "outputs": [],
   "source": [
    "def abc(n_trials = 10, eps = 0.2):\n",
    "    y_trials = []\n",
    "    std_trials = []\n",
    "    l2_dist_trials = []\n",
    "    accept_trials = []\n",
    "    for trial in range(n_trials):# for num_trials\n",
    "        # draw std from prior, and y from likelihood (i.e. draw std,y from joint distribution)\n",
    "        y_trial, std_trial = model(100, obs_std=None)\n",
    "        # compare y to y0 to get distance\n",
    "        sample_std_gt = y_gt.std()\n",
    "        sample_std_trial = y_trial.std()\n",
    "        l2_dist = (sample_std_gt - sample_std_trial).pow(2).sum()\n",
    "        # accept or reject by epsilon criterion\n",
    "        accept = l2_dist < eps\n",
    "        y_trials.append(y_trial.tolist())\n",
    "        l2_dist_trials.append(l2_dist.item())\n",
    "        std_trials.append(std_trial.item())\n",
    "        accept_trials.append(accept.item())\n",
    "    # return samples, l2_dist\n",
    "    return y_trials, l2_dist_trials, std_trials, accept_trials\n",
    "\n",
    "y_trials, l2_dist_trials, std_trials, accept_trials = abc(n_trials=1000,eps=0.1)"
   ]
  },
  {
   "cell_type": "code",
   "execution_count": 111,
   "id": "70b73a61",
   "metadata": {},
   "outputs": [
    {
     "data": {
      "text/plain": [
       "<AxesSubplot:ylabel='Frequency'>"
      ]
     },
     "execution_count": 111,
     "metadata": {},
     "output_type": "execute_result"
    },
    {
     "data": {
      "image/png": "[encoded data removed]",
      "text/plain": [
       "<Figure size 432x288 with 1 Axes>"
      ]
     },
     "metadata": {
      "needs_background": "light"
     },
     "output_type": "display_data"
    }
   ],
   "source": [
    "pd.Series(l2_dist_trials).plot.hist(bins=50)"
   ]
  },
  {
   "cell_type": "code",
   "execution_count": 112,
   "id": "2411ca83",
   "metadata": {},
   "outputs": [
    {
     "data": {
      "text/plain": [
       "<AxesSubplot:ylabel='Frequency'>"
      ]
     },
     "execution_count": 112,
     "metadata": {},
     "output_type": "execute_result"
    },
    {
     "data": {
      "image/png": "[encoded data removed]",
      "text/plain": [
       "<Figure size 432x288 with 1 Axes>"
      ]
     },
     "metadata": {
      "needs_background": "light"
     },
     "output_type": "display_data"
    }
   ],
   "source": [
    "pd.Series(accept_trials).astype(int).plot.hist()"
   ]
  },
  {
   "cell_type": "code",
   "execution_count": 113,
   "id": "c89d307f",
   "metadata": {},
   "outputs": [],
   "source": [
    "results_df = pd.DataFrame({'std': std_trials, 'accept':accept_trials})"
   ]
  },
  {
   "cell_type": "code",
   "execution_count": 114,
   "id": "944589bc",
   "metadata": {},
   "outputs": [
    {
     "data": {
      "text/plain": [
       "<seaborn.axisgrid.FacetGrid at 0x150a52b50>"
      ]
     },
     "execution_count": 114,
     "metadata": {},
     "output_type": "execute_result"
    },
    {
     "data": {
      "image/png": "[encoded data removed]",
      "text/plain": [
       "<Figure size 432x216 with 2 Axes>"
      ]
     },
     "metadata": {
      "needs_background": "light"
     },
     "output_type": "display_data"
    }
   ],
   "source": [
    "import seaborn as sns\n",
    "g = sns.FacetGrid(results_df, col=\"accept\")\n",
    "g.map_dataframe(sns.histplot, x=\"std\")"
   ]
  },
  {
   "cell_type": "code",
   "execution_count": 115,
   "id": "19db15eb",
   "metadata": {},
   "outputs": [
    {
     "data": {
      "text/html": [
       "<div>\n",
       "<style scoped>\n",
       "    .dataframe tbody tr th:only-of-type {\n",
       "        vertical-align: middle;\n",
       "    }\n",
       "\n",
       "    .dataframe tbody tr th {\n",
       "        vertical-align: top;\n",
       "    }\n",
       "\n",
       "    .dataframe thead th {\n",
       "        text-align: right;\n",
       "    }\n",
       "</style>\n",
       "<table border=\"1\" class=\"dataframe\">\n",
       "  <thead>\n",
       "    <tr style=\"text-align: right;\">\n",
       "      <th></th>\n",
       "      <th>std</th>\n",
       "      <th>accept</th>\n",
       "    </tr>\n",
       "  </thead>\n",
       "  <tbody>\n",
       "    <tr>\n",
       "      <th>5</th>\n",
       "      <td>1.146343</td>\n",
       "      <td>True</td>\n",
       "    </tr>\n",
       "    <tr>\n",
       "      <th>12</th>\n",
       "      <td>0.748912</td>\n",
       "      <td>True</td>\n",
       "    </tr>\n",
       "    <tr>\n",
       "      <th>21</th>\n",
       "      <td>0.910077</td>\n",
       "      <td>True</td>\n",
       "    </tr>\n",
       "    <tr>\n",
       "      <th>24</th>\n",
       "      <td>0.639706</td>\n",
       "      <td>True</td>\n",
       "    </tr>\n",
       "    <tr>\n",
       "      <th>27</th>\n",
       "      <td>0.999010</td>\n",
       "      <td>True</td>\n",
       "    </tr>\n",
       "    <tr>\n",
       "      <th>...</th>\n",
       "      <td>...</td>\n",
       "      <td>...</td>\n",
       "    </tr>\n",
       "    <tr>\n",
       "      <th>974</th>\n",
       "      <td>0.714604</td>\n",
       "      <td>True</td>\n",
       "    </tr>\n",
       "    <tr>\n",
       "      <th>981</th>\n",
       "      <td>0.798420</td>\n",
       "      <td>True</td>\n",
       "    </tr>\n",
       "    <tr>\n",
       "      <th>982</th>\n",
       "      <td>0.705398</td>\n",
       "      <td>True</td>\n",
       "    </tr>\n",
       "    <tr>\n",
       "      <th>988</th>\n",
       "      <td>0.796635</td>\n",
       "      <td>True</td>\n",
       "    </tr>\n",
       "    <tr>\n",
       "      <th>989</th>\n",
       "      <td>0.888063</td>\n",
       "      <td>True</td>\n",
       "    </tr>\n",
       "  </tbody>\n",
       "</table>\n",
       "<p>250 rows × 2 columns</p>\n",
       "</div>"
      ],
      "text/plain": [
       "          std  accept\n",
       "5    1.146343    True\n",
       "12   0.748912    True\n",
       "21   0.910077    True\n",
       "24   0.639706    True\n",
       "27   0.999010    True\n",
       "..        ...     ...\n",
       "974  0.714604    True\n",
       "981  0.798420    True\n",
       "982  0.705398    True\n",
       "988  0.796635    True\n",
       "989  0.888063    True\n",
       "\n",
       "[250 rows x 2 columns]"
      ]
     },
     "execution_count": 115,
     "metadata": {},
     "output_type": "execute_result"
    }
   ],
   "source": [
    "idx = results_df['accept'] == True\n",
    "results_df[idx]"
   ]
  },
  {
   "cell_type": "code",
   "execution_count": null,
   "id": "2f5cd60e",
   "metadata": {},
   "outputs": [],
   "source": []
  }
 ],
 "metadata": {
  "kernelspec": {
   "display_name": "Python 3 (ipykernel)",
   "language": "python",
   "name": "python3"
  },
  "language_info": {
   "codemirror_mode": {
    "name": "ipython",
    "version": 3
   },
   "file_extension": ".py",
   "mimetype": "text/x-python",
   "name": "python",
   "nbconvert_exporter": "python",
   "pygments_lexer": "ipython3",
   "version": "3.7.13"
  }
 },
 "nbformat": 4,
 "nbformat_minor": 5
}
